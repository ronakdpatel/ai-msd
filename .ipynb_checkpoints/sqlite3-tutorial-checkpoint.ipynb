{
 "cells": [
  {
   "cell_type": "markdown",
   "metadata": {},
   "source": [
    "# tour through sqlite3\n",
    "+ included in the python standard library\n",
    "+ no server processes involved, no configurations.  Super ez\n",
    "+ [ref: sebraschka](http://sebastianraschka.com/Articles/2014_sqlite_in_python_tutorial.html)"
   ]
  },
  {
   "cell_type": "code",
   "execution_count": 3,
   "metadata": {
    "collapsed": true
   },
   "outputs": [],
   "source": [
    "import sqlite3"
   ]
  },
  {
   "cell_type": "markdown",
   "metadata": {},
   "source": [
    "Import a connection by opening a database.  If the filename doesnt exist, an empty database is created."
   ]
  },
  {
   "cell_type": "code",
   "execution_count": 14,
   "metadata": {},
   "outputs": [],
   "source": [
    "conn = sqlite3.connect('my_sqlite_db.db') # to open a connection"
   ]
  },
  {
   "cell_type": "code",
   "execution_count": 15,
   "metadata": {},
   "outputs": [],
   "source": [
    "conn.commit() # to commit any changes to the database\n",
    "conn.close() # to close connection"
   ]
  },
  {
   "cell_type": "markdown",
   "metadata": {},
   "source": [
    "To execute a query, use `conn.query`.  If the query expects a return, use `fetchall()` or `fetchnone()`.  \n"
   ]
  },
  {
   "cell_type": "code",
   "execution_count": null,
   "metadata": {
    "collapsed": true
   },
   "outputs": [],
   "source": []
  },
  {
   "cell_type": "markdown",
   "metadata": {},
   "source": [
    "## Building a new SQLite DB:"
   ]
  },
  {
   "cell_type": "code",
   "execution_count": 26,
   "metadata": {},
   "outputs": [],
   "source": [
    "# Creating new tables with PRs\n",
    "table1_name = 'pokemon'\n",
    "table2_name = 'trainers'\n",
    "\n",
    "conn = sqlite3.connect('my_sqlite_db.db') # to open a connection\n",
    "c = conn.cursor()\n",
    "\n",
    "c.execute('CREATE TABLE {0} ({1} {2} PRIMARY KEY)'.format(table1_name, 'name', 'text'))\n",
    "c.execute('CREATE TABLE {0} ({1} {2} PRIMARY KEY)'.format(table2_name, 'name', 'text'))\n",
    "\n",
    "conn.commit()\n",
    "conn.close()"
   ]
  },
  {
   "cell_type": "code",
   "execution_count": 27,
   "metadata": {},
   "outputs": [],
   "source": [
    "# Updating a table with new cols  \n",
    "\n",
    "conn = sqlite3.connect('my_sqlite_db.db') # to open a connection\n",
    "c = conn.cursor()\n",
    "\n",
    "c.execute(\"ALTER TABLE pokemon ADD COLUMN 'type' text DEFAULT 'normal'\")\n",
    "\n",
    "conn.commit()\n",
    "conn.close()"
   ]
  },
  {
   "cell_type": "code",
   "execution_count": 30,
   "metadata": {},
   "outputs": [],
   "source": [
    "# Insert into DB \n",
    "conn = sqlite3.connect('my_sqlite_db.db') # to open a connection\n",
    "c = conn.cursor()\n",
    "\n",
    "c.execute(\"INSERT INTO pokemon (name, type) VALUES ('bulbasaur', 'grass')\")\n",
    "c.execute(\"INSERT INTO trainers (name) VALUES ('misty')\")\n",
    "c.execute(\"INSERT INTO trainers (name) VALUES ('ash')\")\n",
    "c.execute(\"INSERT INTO pokemon (name, type) VALUES ('charmander', 'fire')\")\n",
    "c.execute(\"INSERT INTO pokemon (name, type) VALUES ('geodude', 'rock')\")\n",
    "c.execute(\"INSERT INTO pokemon (name, type) VALUES ('psyduck', 'water')\")\n",
    "\n",
    "\n",
    "conn.commit()\n",
    "conn.close()"
   ]
  },
  {
   "cell_type": "markdown",
   "metadata": {},
   "source": [
    "Querying "
   ]
  },
  {
   "cell_type": "code",
   "execution_count": null,
   "metadata": {
    "collapsed": true
   },
   "outputs": [],
   "source": []
  },
  {
   "cell_type": "code",
   "execution_count": null,
   "metadata": {
    "collapsed": true
   },
   "outputs": [],
   "source": []
  },
  {
   "cell_type": "code",
   "execution_count": 29,
   "metadata": {
    "collapsed": true
   },
   "outputs": [],
   "source": [
    "conn.close()"
   ]
  },
  {
   "cell_type": "code",
   "execution_count": null,
   "metadata": {
    "collapsed": true
   },
   "outputs": [],
   "source": []
  },
  {
   "cell_type": "code",
   "execution_count": null,
   "metadata": {
    "collapsed": true
   },
   "outputs": [],
   "source": []
  }
 ],
 "metadata": {
  "kernelspec": {
   "display_name": "Python 2",
   "language": "python",
   "name": "python2"
  },
  "language_info": {
   "codemirror_mode": {
    "name": "ipython",
    "version": 2
   },
   "file_extension": ".py",
   "mimetype": "text/x-python",
   "name": "python",
   "nbconvert_exporter": "python",
   "pygments_lexer": "ipython2",
   "version": "2.7.13"
  }
 },
 "nbformat": 4,
 "nbformat_minor": 2
}
