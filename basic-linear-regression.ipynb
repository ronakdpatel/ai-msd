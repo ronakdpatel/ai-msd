{
 "cells": [
  {
   "cell_type": "markdown",
   "metadata": {},
   "source": [
    "# Basic Linear Regression Model"
   ]
  },
  {
   "cell_type": "code",
   "execution_count": 1,
   "metadata": {},
   "outputs": [
    {
     "name": "stdout",
     "output_type": "stream",
     "text": [
      "This jupyter notebook was executed with:\n",
      "2.7.14 |Anaconda, Inc.| (default, Nov 20 2017, 18:04:19) \n",
      "[GCC 7.2.0]\n"
     ]
    }
   ],
   "source": [
    "import sys\n",
    "ver_info = sys.version\n",
    "print(\"This jupyter notebook was executed with:\\n{0}\".format(ver_info));\n"
   ]
  },
  {
   "cell_type": "markdown",
   "metadata": {},
   "source": [
    "## Imports"
   ]
  },
  {
   "cell_type": "code",
   "execution_count": 2,
   "metadata": {},
   "outputs": [],
   "source": [
    "import numpy as np\n",
    "import matplotlib as mpl\n",
    "import matplotlib.pyplot as plt\n",
    "import pandas as pd\n",
    "from scipy import stats, integrate\n",
    "import seaborn as sns\n",
    "\n",
    "import pprint\n",
    "p = pprint.PrettyPrinter(indent=4)\n",
    "\n",
    "import config as config\n",
    "\n",
    "%matplotlib inline\n"
   ]
  },
  {
   "cell_type": "markdown",
   "metadata": {},
   "source": [
    "## Importing utilities object\n",
    "+ imports dataset as lists (a training and test set)\n"
   ]
  },
  {
   "cell_type": "code",
   "execution_count": 3,
   "metadata": {},
   "outputs": [
    {
     "name": "stderr",
     "output_type": "stream",
     "text": [
      "/home/rshn/anaconda3/envs/python2/lib/python2.7/site-packages/pandas/core/computation/check.py:17: UserWarning: The installed version of numexpr 2.2.2 is not supported in pandas and will be not be used\n",
      "The minimum supported version is 2.4.6\n",
      "\n",
      "  ver=ver, min_ver=_MIN_NUMEXPR_VERSION), UserWarning)\n"
     ]
    }
   ],
   "source": [
    "%run utilities.py\n",
    "util = Utilities({}, use_json=False)\n",
    "training_list, testing_list = util.get_datasets()\n",
    "\n",
    "# turning the datasets into pandas DataFrames \n",
    "training_DF, testing_DF = util.create_dataframes(training_list, testing_list)\n",
    "\n",
    "# generate the energy and dance measures \n",
    "training_DF, testing_DF = util.generate_energy_measure(training_DF, testing_DF)\n",
    "training_DF, testing_DF = util.generate_dance_measure(training_DF, testing_DF)\n"
   ]
  },
  {
   "cell_type": "markdown",
   "metadata": {},
   "source": [
    "# Makin Linear Reg Learners!"
   ]
  },
  {
   "cell_type": "code",
   "execution_count": 4,
   "metadata": {},
   "outputs": [],
   "source": [
    "from sklearn.linear_model import LinearRegression\n",
    "from sklearn import metrics \n",
    "# Look at utilities.py for RunAndTestLinearRegModel() "
   ]
  },
  {
   "cell_type": "markdown",
   "metadata": {},
   "source": [
    "### using metadata (familiarity and artist_hott)"
   ]
  },
  {
   "cell_type": "code",
   "execution_count": 5,
   "metadata": {},
   "outputs": [
    {
     "name": "stdout",
     "output_type": "stream",
     "text": [
      "artist_familiarity                       training_error:\t0.0210615568338\n",
      "artist_familiarity                       testing_error:\t\t\t0.0213577107761\n",
      "artist_hotttnesss                        training_error:\t0.0213931859342\n",
      "artist_hotttnesss                        testing_error:\t\t\t0.022303188341\n",
      "artist_hotttnesss artist_familiarity     training_error:\t0.020440738042\n",
      "artist_hotttnesss artist_familiarity     testing_error:\t\t\t0.0209070104041\n"
     ]
    }
   ],
   "source": [
    "metadata = ['artist_familiarity', 'artist_hotttnesss', 'artist_hotttnesss artist_familiarity']\n",
    "\n",
    "for item in metadata:\n",
    "    X_cols = item\n",
    "    results = util.RunAndTestLinearRegModel(X_cols, training_DF, testing_DF)\n",
    "\n",
    "    #  [x][1] = Mean squared error regression loss (bc its the smallest value lol)\n",
    "    mserr_training = results[1][1]\n",
    "    mserr_testing = results[2][1]\n",
    "\n",
    "    print \"{:<40}\".format(item), \"training_error:\\t\", mserr_training\n",
    "    print \"{:<40}\".format(item), \"testing_error:\\t\\t\\t\", mserr_testing\n",
    "    # print \"The min error values were:\", min(results[1]), min(results[2])\n",
    "    # print \"std of hot is:\", results[3]\n",
    "    # -------------------------------------------------\n"
   ]
  },
  {
   "cell_type": "markdown",
   "metadata": {},
   "source": [
    "#### Conclusions?\n",
    "can see that a combination of both features perform better"
   ]
  },
  {
   "cell_type": "markdown",
   "metadata": {},
   "source": [
    "### using acoustic features "
   ]
  },
  {
   "cell_type": "code",
   "execution_count": 6,
   "metadata": {
    "scrolled": true
   },
   "outputs": [
    {
     "name": "stdout",
     "output_type": "stream",
     "text": [
      "segments_avg                             testing_error:\t\t\t0.028947303262\n",
      "tatums_avg                               testing_error:\t\t\t0.0288234858365\n",
      "beats_avg                                testing_error:\t\t\t0.0289073349998\n",
      "bars_avg                                 testing_error:\t\t\t0.0289791249152\n",
      "sections_avg                             testing_error:\t\t\t0.0288374165962\n",
      "segments_avg tatums_avg beats_avg bars_avg sections_avg  testing_error:\t\t\t0.0286068674162\n",
      "key                                      testing_error:\t\t\t0.028953069294\n",
      "loudness                                 testing_error:\t\t\t0.0274338005675\n",
      "duration                                 testing_error:\t\t\t0.0290466638605\n",
      "tempo                                    testing_error:\t\t\t0.0288841183369\n",
      "time_signature                           testing_error:\t\t\t0.0288774122332\n",
      "key loudness duration tempo time_signature testing_error:\t\t\t0.0275424240233\n",
      "key loudness duration tempo time_signature segments_avg tatums_avg beats_avg bars_avg sections_avg  testing_error:\t\t\t0.0273323042735\n"
     ]
    }
   ],
   "source": [
    "allsegs = 'segments_avg tatums_avg beats_avg bars_avg sections_avg '\n",
    "allrawacous = 'key loudness duration tempo time_signature'\n",
    "\n",
    "raw_acous = []\n",
    "for each in allsegs.split():\n",
    "    raw_acous.append(each)\n",
    "\n",
    "raw_acous.append(allsegs)\n",
    "\n",
    "\n",
    "for each in allrawacous.split():\n",
    "    raw_acous.append(each)   \n",
    "raw_acous.append(allrawacous)\n",
    "raw_acous.append((allrawacous+ ' ' + allsegs))\n",
    "\n",
    "\n",
    "for item in raw_acous:\n",
    "    X_cols = item\n",
    "    results = util.RunAndTestLinearRegModel(X_cols, training_DF, testing_DF)\n",
    "\n",
    "    #  [x][1] = Mean squared error regression loss (bc its the smallest value lol)\n",
    "    mserr_training = results[1][1]\n",
    "    mserr_testing = results[2][1]\n",
    "\n",
    "#     print \"{:<60}\".format(item), \"training_error:\\t\", mserr_training\n",
    "    print \"{:<40}\".format(item), \"testing_error:\\t\\t\\t\", mserr_testing\n",
    "    # print \"The min error values were:\", min(results[1]), min(results[2])\n",
    "#     print \"std of hot is:\", results[3]\n",
    "    # -------------------------------------------------\n",
    "# print results[3]"
   ]
  },
  {
   "cell_type": "markdown",
   "metadata": {},
   "source": [
    "## Finding the best energy measure"
   ]
  },
  {
   "cell_type": "code",
   "execution_count": 7,
   "metadata": {},
   "outputs": [
    {
     "name": "stdout",
     "output_type": "stream",
     "text": [
      "energy1\n",
      "energy2\n",
      "energy3\n",
      "energy4\n",
      "energy1 energy2 energy3 energy4\n"
     ]
    }
   ],
   "source": [
    "energylsit = ['energy1', 'energy2', 'energy3', 'energy4', 'energy1 energy2 energy3 energy4']\n",
    "\n",
    "for item in energylsit:\n",
    "    X_cols = item\n",
    "    results = util.RunAndTestLinearRegModel(X_cols, training_DF, testing_DF)\n",
    "\n",
    "    #  [x][1] = Mean squared error regression loss (bc its the smallest value lol)\n",
    "    mserr_training = results[1][1]\n",
    "    mserr_testing = results[2][1]\n",
    "\n",
    "#     print \"{:<40}\".format(item), \"training_error:\\t\", mserr_training\n",
    "    print item\n",
    "    # print \"d1 testing_error\\t\", mserr_testing\n",
    "    # print \"The min error values were:\", min(results[1]), min(results[2])\n",
    "    # print \"std of hot is:\", results[3]\n",
    "    # -------------------------------------------------\n",
    "\n",
    "\n"
   ]
  },
  {
   "cell_type": "code",
   "execution_count": 8,
   "metadata": {
    "scrolled": true
   },
   "outputs": [
    {
     "name": "stdout",
     "output_type": "stream",
     "text": [
      "energy1 energy2 energy3 energy4 tatums_avg beats_avg                   training_error:\t0.0211592256926\n",
      "energy1 energy2 energy3 energy4 tempo loudness                         training_error:\t0.0206005377593\n",
      "energy1 energy2 energy3 energy4 tempo loudness tatums_avg beats_avg    training_error:\t0.0205903925348\n"
     ]
    }
   ],
   "source": [
    "# Comparing acoustic results\n",
    "acous_compare = [\"energy1 energy2 energy3 energy4 tatums_avg beats_avg\", \n",
    "                 \"energy1 energy2 energy3 energy4 tempo loudness\", \n",
    "                 \"energy1 energy2 energy3 energy4 tempo loudness tatums_avg beats_avg\"]\n",
    "\n",
    "for item in acous_compare:\n",
    "    X_cols = item\n",
    "    results = util.RunAndTestLinearRegModel(X_cols, training_DF, testing_DF)\n",
    "\n",
    "    #  [x][1] = Mean squared error regression loss (bc its the smallest value lol)\n",
    "    mserr_training = results[1][1]\n",
    "    mserr_testing = results[2][1]\n",
    "\n",
    "    print \"{:<70}\".format(item), \"training_error:\\t\", mserr_training\n",
    "    # print \"d1 testing_error\\t\", mserr_testing\n",
    "    # print \"The min error values were:\", min(results[1]), min(results[2])\n",
    "    # print \"std of hot is:\", results[3]\n",
    "    # -------------------------------------------------\n",
    "\n",
    "\n",
    "\n"
   ]
  },
  {
   "cell_type": "markdown",
   "metadata": {},
   "source": [
    "## lets play with the dance measure now"
   ]
  },
  {
   "cell_type": "code",
   "execution_count": 14,
   "metadata": {},
   "outputs": [
    {
     "name": "stdout",
     "output_type": "stream",
     "text": [
      "dance1                                   training_error:\t0.0229094894437\n",
      "dance2                                   training_error:\t0.0221730934354\n",
      "dance3                                   training_error:\t0.0239712685124\n",
      "dance4                                   training_error:\t0.023969093992\n",
      "dance1 dance2 dance3 dance4              training_error:\t0.0218188639278\n"
     ]
    }
   ],
   "source": [
    "dancelist = ['dance1', 'dance2', 'dance3', 'dance4', 'dance1 dance2 dance3 dance4']\n",
    "\n",
    "for item in dancelist:\n",
    "    # dance1\n",
    "    X_cols = item\n",
    "    results = util.RunAndTestLinearRegModel(X_cols, training_DF, testing_DF)\n",
    "\n",
    "    #  [x][1] = Mean squared error regression loss (bc its the smallest value lol)\n",
    "    mserr_training = results[1][1]\n",
    "    mserr_testing = results[2][1]\n",
    "\n",
    "    print \"{:<40}\".format(item), \"training_error:\\t\", mserr_training\n",
    "#     print item\n",
    "    # print \"d1 testing_error\\t\", mserr_testing\n",
    "    # print \"The min error values were:\", min(results[1]), min(results[2])\n",
    "    # print \"std of hot is:\", results[3]\n",
    "    # -------------------------------------------------\n",
    "\n",
    "\n"
   ]
  },
  {
   "cell_type": "code",
   "execution_count": 10,
   "metadata": {},
   "outputs": [
    {
     "name": "stdout",
     "output_type": "stream",
     "text": [
      "dance1 dance2 dance3 dance4                                            testing_error:\t\t0.0228423383647\n",
      "energy1 energy2 energy3 energy4                                        testing_error:\t\t0.0212909912842\n",
      "dance1 dance2 dance3 dance4 energy1 energy2 energy3 energy4            testing_error:\t\t0.0208636930648\n",
      "artist_familiarity artist_hotttnesss                                   testing_error:\t\t0.0209070104041\n",
      "alleng alldance allmeta                                                testing_error:\t\t0.0204036653068\n"
     ]
    }
   ],
   "source": [
    "dancelist = 'dance1 dance2 dance3 dance4 '\n",
    "energylist = 'energy1 energy2 energy3 energy4 '\n",
    "\n",
    "acousitc =[]\n",
    "acousitc.append(dancelist)\n",
    "acousitc.append(energylist)\n",
    "acousitc.append(dancelist+energylist)\n",
    "acousitc.append(\"artist_familiarity artist_hotttnesss\")\n",
    "acousitc.append(dancelist+energylist+\"artist_familiarity artist_hotttnesss\")\n",
    "\n",
    "for item in acousitc:\n",
    "    # dance1\n",
    "    X_cols = item\n",
    "    results = util.RunAndTestLinearRegModel(X_cols, training_DF, testing_DF)\n",
    "\n",
    "    #  [x][1] = Mean squared error regression loss (bc its the smallest value lol)\n",
    "    mserr_training = results[1][1]\n",
    "    mserr_testing = results[2][1]\n",
    "\n",
    "    if(len(item)>70):\n",
    "        item='alleng alldance allmeta'\n",
    "    \n",
    "#     print \"{:<70}\".format(item), \"training_error:\\t\", mserr_training\n",
    "    print \"{:<70}\".format(item), \"testing_error:\\t\\t\", mserr_testing\n",
    "    # print \"The min error values were:\", min(results[1]), min(results[2])\n",
    "    # print \"std of hot is:\", results[3]\n",
    "    # -------------------------------------------------\n",
    "\n",
    "\n"
   ]
  },
  {
   "cell_type": "code",
   "execution_count": 11,
   "metadata": {},
   "outputs": [
    {
     "name": "stdout",
     "output_type": "stream",
     "text": [
      "alleng alldance allmeta                                                training_error:\t0.0200564508292\n",
      "alleng alldance allmeta                                                training_error:\t\t0.0204036653068\n",
      "std of hot is:\t\t0.167935342113\n",
      "12.1497149141\n"
     ]
    }
   ],
   "source": [
    "finalset = [dancelist+energylist+\"artist_familiarity artist_hotttnesss\"]\n",
    "\n",
    "for item in finalset:\n",
    "    X_cols = item\n",
    "    results = util.RunAndTestLinearRegModel(X_cols, training_DF, testing_DF)\n",
    "\n",
    "    #  [x][1] = Mean squared error regression loss (bc its the smallest value lol)\n",
    "    mserr_training = results[1][1]\n",
    "    mserr_testing = results[2][1]\n",
    "\n",
    "    if(len(item)>70):\n",
    "        item='alleng alldance allmeta'\n",
    "    \n",
    "    print \"{:<70}\".format(item), \"training_error:\\t\", mserr_training\n",
    "    print \"{:<70}\".format(item), \"training_error:\\t\\t\", mserr_testing\n",
    "    # print \"The min error values were:\", min(results[1]), min(results[2])\n",
    "    print \"std of hot is:\\t\\t\", results[3]\n",
    "    print mserr_testing/results[3]*100\n",
    "    # -------------------------------------------------\n",
    "\n"
   ]
  },
  {
   "cell_type": "code",
   "execution_count": null,
   "metadata": {},
   "outputs": [],
   "source": []
  },
  {
   "cell_type": "markdown",
   "metadata": {},
   "source": [
    "## THROW IT ALL IN THERE \n"
   ]
  },
  {
   "cell_type": "code",
   "execution_count": 16,
   "metadata": {},
   "outputs": [
    {
     "name": "stdout",
     "output_type": "stream",
     "text": [
      "allfeatures                                                            training_error:\t0.0199210003694\n",
      "allfeatures                                                            training_error:\t0.0204565606284\n"
     ]
    }
   ],
   "source": [
    "rawacoustic = \" key loudness duration tempo time_signature segments_avg tatums_avg beats_avg bars_avg sections_avg  \"\n",
    "above = ' dance1 dance2 dance3 dance4 energy1 energy2 energy3 energy4 artist_familiarity artist_hotttnesss  '\n",
    "actual_all = [rawacoustic+above]\n",
    "\n",
    "for item in actual_all:\n",
    "    X_cols = item\n",
    "    results = util.RunAndTestLinearRegModel(X_cols, training_DF, testing_DF)\n",
    "\n",
    "    #  [x][1] = Mean squared error regression loss (bc its the smallest value lol)\n",
    "    mserr_training = results[1][1]\n",
    "    mserr_testing = results[2][1]\n",
    "\n",
    "    if(len(item)>70):\n",
    "        item=\"allfeatures\"\n",
    "    \n",
    "    print \"{:<70}\".format(item), \"training_error:\\t\", mserr_training\n",
    "    print \"{:<70}\".format(item), \"training_error:\\t\", mserr_testing\n",
    "    # print \"The min error values were:\", min(results[1]), min(results[2])\n",
    "    # print \"std of hot is:\", results[3]\n",
    "    # -------------------------------------------------\n"
   ]
  },
  {
   "cell_type": "code",
   "execution_count": null,
   "metadata": {},
   "outputs": [],
   "source": []
  },
  {
   "cell_type": "code",
   "execution_count": null,
   "metadata": {},
   "outputs": [],
   "source": []
  },
  {
   "cell_type": "code",
   "execution_count": null,
   "metadata": {},
   "outputs": [],
   "source": []
  },
  {
   "cell_type": "code",
   "execution_count": null,
   "metadata": {},
   "outputs": [],
   "source": []
  }
 ],
 "metadata": {
  "kernelspec": {
   "display_name": "Python 2",
   "language": "python",
   "name": "python2"
  },
  "language_info": {
   "codemirror_mode": {
    "name": "ipython",
    "version": 2
   },
   "file_extension": ".py",
   "mimetype": "text/x-python",
   "name": "python",
   "nbconvert_exporter": "python",
   "pygments_lexer": "ipython2",
   "version": "2.7.14"
  }
 },
 "nbformat": 4,
 "nbformat_minor": 2
}
