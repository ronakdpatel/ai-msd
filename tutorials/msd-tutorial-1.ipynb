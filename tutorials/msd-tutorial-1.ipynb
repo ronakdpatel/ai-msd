{
 "cells": [
  {
   "cell_type": "markdown",
   "metadata": {},
   "source": [
    "# MSD - tutorial_1"
   ]
  },
  {
   "cell_type": "code",
   "execution_count": 1,
   "metadata": {},
   "outputs": [
    {
     "name": "stdout",
     "output_type": "stream",
     "text": [
      "This jupyter notebook was executed with:\n",
      "2.7.14 |Anaconda, Inc.| (default, Nov  8 2017, 13:40:45) [MSC v.1500 64 bit (AMD64)]\n"
     ]
    }
   ],
   "source": [
    "import sys\n",
    "ver_info = sys.version\n",
    "print(\"This jupyter notebook was executed with:\\n{0}\".format(ver_info));\n"
   ]
  },
  {
   "cell_type": "code",
   "execution_count": 2,
   "metadata": {},
   "outputs": [],
   "source": [
    "# usual imports \n",
    "import os\n",
    "import sys\n",
    "import time\n",
    "import glob\n",
    "import datetime\n",
    "import sqlite3\n",
    "import numpy as np"
   ]
  },
  {
   "cell_type": "markdown",
   "metadata": {},
   "source": [
    "Change the path to dataset and MSD code  "
   ]
  },
  {
   "cell_type": "code",
   "execution_count": 3,
   "metadata": {},
   "outputs": [
    {
     "name": "stdout",
     "output_type": "stream",
     "text": [
      "../MillionSongSubset\n",
      "../MSongsDB\n"
     ]
    }
   ],
   "source": [
    "# path to the Million Song Dataset subset (uncompressed)\n",
    "# CHANGE IT TO YOUR LOCAL CONFIGURATION\n",
    "msd_subset_path='../MillionSongSubset'  # mine is in the same directory as the pynb file (rshn) \n",
    "msd_subset_data_path=os.path.join(msd_subset_path,'data')\n",
    "msd_subset_addf_path=os.path.join(msd_subset_path,'AdditionalFiles')\n",
    "print(msd_subset_path)\n",
    "assert os.path.isdir(msd_subset_path),'wrong path' # sanity check\n",
    "\n",
    "\n",
    "\n",
    "# path to the Million Song Dataset code\n",
    "# CHANGE IT TO YOUR LOCAL CONFIGURATION\n",
    "msd_code_path='../MSongsDB'\n",
    "print(msd_code_path)\n",
    "assert os.path.isdir(msd_code_path),'wrong path' # sanity check\n",
    "# we add some paths to python so we can import MSD code\n",
    "# Ubuntu: you can change the environment variable PYTHONPATH\n",
    "# in your .bashrc file so you do not have to type these lines\n",
    "sys.path.append( os.path.join(msd_code_path,'PythonSrc') )\n"
   ]
  },
  {
   "cell_type": "code",
   "execution_count": 4,
   "metadata": {},
   "outputs": [],
   "source": [
    "# imports specific to the MSD\n",
    "import hdf5_getters as GETTERS\n"
   ]
  },
  {
   "cell_type": "code",
   "execution_count": 5,
   "metadata": {},
   "outputs": [],
   "source": [
    "# the following function simply gives us a nice string for\n",
    "# a time lag in seconds\n",
    "def strtimedelta(starttime,stoptime):\n",
    "    return str(datetime.timedelta(seconds=stoptime-starttime))"
   ]
  },
  {
   "cell_type": "markdown",
   "metadata": {},
   "source": [
    "### Function to iterate over the files "
   ]
  },
  {
   "cell_type": "code",
   "execution_count": 6,
   "metadata": {},
   "outputs": [],
   "source": [
    "# we define this very useful function to iterate the files\n",
    "def apply_to_all_files(basedir,func=lambda x: x,ext='.h5'):\n",
    "    \"\"\"\n",
    "    From a base directory, go through all subdirectories,\n",
    "    find all files with the given extension, apply the\n",
    "    given function 'func' to all of them.\n",
    "    If no 'func' is passed, we do nothing except counting.\n",
    "    INPUT\n",
    "       basedir  - base directory of the dataset\n",
    "       func     - function to apply to all filenames\n",
    "       ext      - extension, .h5 by default\n",
    "    RETURN\n",
    "       number of files\n",
    "    \"\"\"\n",
    "    cnt = 0\n",
    "    # iterate over all files in all subdirectories\n",
    "    for root, dirs, files in os.walk(basedir):\n",
    "        files = glob.glob(os.path.join(root,'*'+ext))\n",
    "        # count files\n",
    "        cnt += len(files)\n",
    "        # apply function to all files\n",
    "        for f in files :\n",
    "            func(f)       \n",
    "    return cnt\n"
   ]
  },
  {
   "cell_type": "code",
   "execution_count": 7,
   "metadata": {},
   "outputs": [
    {
     "name": "stdout",
     "output_type": "stream",
     "text": [
      "number of song files: 9999\n"
     ]
    }
   ],
   "source": [
    "# we can now easily count the number of files in the dataset\n",
    "print 'number of song files:',apply_to_all_files(msd_subset_data_path)\n"
   ]
  },
  {
   "cell_type": "markdown",
   "metadata": {},
   "source": [
    "## How to use the simple h5_getter"
   ]
  },
  {
   "cell_type": "code",
   "execution_count": 8,
   "metadata": {},
   "outputs": [
    {
     "ename": "AttributeError",
     "evalue": "'module' object has no attribute 'openFile'",
     "output_type": "error",
     "traceback": [
      "\u001b[1;31m---------------------------------------------------------------------------\u001b[0m",
      "\u001b[1;31mAttributeError\u001b[0m                            Traceback (most recent call last)",
      "\u001b[1;32m<ipython-input-8-33e4f432802b>\u001b[0m in \u001b[0;36m<module>\u001b[1;34m()\u001b[0m\n\u001b[1;32m----> 1\u001b[1;33m \u001b[0mh5\u001b[0m \u001b[1;33m=\u001b[0m \u001b[0mGETTERS\u001b[0m\u001b[1;33m.\u001b[0m\u001b[0mopen_h5_file_read\u001b[0m\u001b[1;33m(\u001b[0m\u001b[1;34m'../MillionSongSubset/data/A/A/A/TRAAAAW128F429D538.h5'\u001b[0m\u001b[1;33m)\u001b[0m\u001b[1;33m\u001b[0m\u001b[0m\n\u001b[0m\u001b[0;32m      2\u001b[0m \u001b[1;33m\u001b[0m\u001b[0m\n\u001b[0;32m      3\u001b[0m \u001b[1;33m\u001b[0m\u001b[0m\n\u001b[0;32m      4\u001b[0m \u001b[0mx\u001b[0m \u001b[1;33m=\u001b[0m \u001b[0mGETTERS\u001b[0m\u001b[1;33m.\u001b[0m\u001b[0mget_title\u001b[0m\u001b[1;33m(\u001b[0m\u001b[0mh5\u001b[0m\u001b[1;33m)\u001b[0m\u001b[1;33m\u001b[0m\u001b[0m\n\u001b[0;32m      5\u001b[0m \u001b[1;32mprint\u001b[0m \u001b[0mx\u001b[0m\u001b[1;33m\u001b[0m\u001b[0m\n",
      "\u001b[1;32mC:\\Users\\rshn\\Developer\\cs530\\ai-msd\\MSongsDB\\PythonSrc\\hdf5_getters.pyc\u001b[0m in \u001b[0;36mopen_h5_file_read\u001b[1;34m(h5filename)\u001b[0m\n\u001b[0;32m     37\u001b[0m     \u001b[0mSame\u001b[0m \u001b[0mfunction\u001b[0m \u001b[1;32mas\u001b[0m \u001b[1;32min\u001b[0m \u001b[0mhdf5_utils\u001b[0m\u001b[1;33m,\u001b[0m \u001b[0mhere\u001b[0m \u001b[0mso\u001b[0m \u001b[0mwe\u001b[0m \u001b[0mavoid\u001b[0m \u001b[0mone\u001b[0m \u001b[1;32mimport\u001b[0m\u001b[1;33m\u001b[0m\u001b[0m\n\u001b[0;32m     38\u001b[0m     \"\"\"\n\u001b[1;32m---> 39\u001b[1;33m     \u001b[1;32mreturn\u001b[0m \u001b[0mtables\u001b[0m\u001b[1;33m.\u001b[0m\u001b[0mopenFile\u001b[0m\u001b[1;33m(\u001b[0m\u001b[0mh5filename\u001b[0m\u001b[1;33m,\u001b[0m \u001b[0mmode\u001b[0m\u001b[1;33m=\u001b[0m\u001b[1;34m'r'\u001b[0m\u001b[1;33m)\u001b[0m\u001b[1;33m\u001b[0m\u001b[0m\n\u001b[0m\u001b[0;32m     40\u001b[0m \u001b[1;33m\u001b[0m\u001b[0m\n\u001b[0;32m     41\u001b[0m \u001b[1;33m\u001b[0m\u001b[0m\n",
      "\u001b[1;31mAttributeError\u001b[0m: 'module' object has no attribute 'openFile'"
     ]
    }
   ],
   "source": [
    "h5 = GETTERS.open_h5_file_read('../MillionSongSubset/data/A/A/A/TRAAAAW128F429D538.h5')\n",
    "\n",
    "\n",
    "x = GETTERS.get_title(h5)\n",
    "print x\n",
    "print type(x)\n",
    "\n",
    "h5.close()"
   ]
  },
  {
   "cell_type": "code",
   "execution_count": null,
   "metadata": {},
   "outputs": [],
   "source": [
    "h5 = GETTERS.open_h5_file_read('../MillionSongSubset/data/A/A/A/TRAAAAW128F429D538.h5')\n",
    "\n",
    "\n",
    "x = GETTERS.get_beats_start(h5)\n",
    "h5.close()\n",
    "\n",
    "\n",
    "size =  x.size\n",
    "total = 0\n",
    "\n",
    "for i in range(1, size):\n",
    "    total += x[i]-x[i-1]\n",
    "\n",
    "print total/size\n"
   ]
  },
  {
   "cell_type": "markdown",
   "metadata": {},
   "source": [
    "### Get artist name\n",
    "+ `all_artist_names` is a set of strings\n",
    "+ `func_to_get_artist_name(filename)` works on a single file\n",
    "+ Use `apply_to_all_files()` to apply to all \n"
   ]
  },
  {
   "cell_type": "code",
   "execution_count": null,
   "metadata": {},
   "outputs": [],
   "source": [
    "# let's now get all artist names in a set(). One nice property:\n",
    "# if we enter many times the same artist, only one will be kept.\n",
    "all_artist_names = set()\n",
    "\n",
    "# we define the function to apply to all files\n",
    "def func_to_get_artist_name(filename):\n",
    "    \"\"\"\n",
    "    This function does 3 simple things:\n",
    "    - open the song file\n",
    "    - get artist ID and put it\n",
    "    - close the file\n",
    "    \"\"\"\n",
    "    h5 = GETTERS.open_h5_file_read(filename)\n",
    "    artist_name = GETTERS.get_artist_name(h5)\n",
    "    all_artist_names.add( artist_name )\n",
    "    h5.close()"
   ]
  },
  {
   "cell_type": "code",
   "execution_count": null,
   "metadata": {},
   "outputs": [],
   "source": [
    "all_dance = []\n",
    "\n",
    "# we define the function to apply to all files\n",
    "def func_to_get_all_dance(filename):\n",
    "    \"\"\"\n",
    "    This function does 3 simple things:\n",
    "    - open the song file\n",
    "    - get artist ID and put it\n",
    "    - close the file\n",
    "    \"\"\"\n",
    "    h5 = GETTERS.open_h5_file_read(filename)\n",
    "    dance_score = GETTERS.get_danceability(h5)\n",
    "    all_dance.append( dance_score )\n",
    "    h5.close()"
   ]
  },
  {
   "cell_type": "code",
   "execution_count": null,
   "metadata": {},
   "outputs": [],
   "source": [
    "# let's apply the previous function to all files\n",
    "# we'll also measure how long it takes\n",
    "t1 = time.time()\n",
    "apply_to_all_files(msd_subset_data_path,func=func_to_get_artist_name)\n",
    "t2 = time.time()\n",
    "print 'all artist names extracted in:',strtimedelta(t1,t2)\n"
   ]
  },
  {
   "cell_type": "code",
   "execution_count": null,
   "metadata": {},
   "outputs": [],
   "source": [
    "# let's apply the previous function to all files\n",
    "# we'll also measure how long it takes\n",
    "t1 = time.time()\n",
    "apply_to_all_files(msd_subset_data_path,func=func_to_get_all_dance)\n",
    "t2 = time.time()\n",
    "print 'all artist names extracted in:',strtimedelta(t1,t2)\n"
   ]
  },
  {
   "cell_type": "code",
   "execution_count": null,
   "metadata": {},
   "outputs": [],
   "source": [
    "all_dance.sort()\n",
    "print all_dance"
   ]
  },
  {
   "cell_type": "markdown",
   "metadata": {},
   "source": [
    "#### cool.\n",
    "Now `all_artist_names` is populated.  \n",
    "Lets look at the first 10.  "
   ]
  },
  {
   "cell_type": "code",
   "execution_count": null,
   "metadata": {},
   "outputs": [],
   "source": [
    "# let's see some of the content of 'all_artist_names'\n",
    "print 'found',len(all_artist_names),'unique artist names'\n",
    "for k in range(10):\n",
    "    print list(all_artist_names)[k]\n"
   ]
  },
  {
   "cell_type": "markdown",
   "metadata": {},
   "source": [
    "## sqlite method"
   ]
  },
  {
   "cell_type": "code",
   "execution_count": null,
   "metadata": {},
   "outputs": [],
   "source": [
    "# this is too long, and the work of listing artist names has already\n",
    "# been done. Let's redo the same task using an SQLite database.\n",
    "# We connect to the provided database: track_metadata.db\n",
    "conn = sqlite3.connect(os.path.join(msd_subset_addf_path,\n",
    "                                    'subset_track_metadata.db'))\n",
    "# we build the SQL query\n",
    "q = \"SELECT DISTINCT artist_name FROM songs\"\n",
    "# we query the database\n",
    "t1 = time.time()\n",
    "res = conn.execute(q)\n",
    "all_artist_names_sqlite = res.fetchall()\n",
    "t2 = time.time()\n",
    "print 'all artist names extracted (SQLite) in:',strtimedelta(t1,t2)\n",
    "# we close the connection to the database\n",
    "conn.close()\n",
    "# let's see some of the content\n",
    "for k in range(5):\n",
    "    print all_artist_names_sqlite[k][0]\n",
    "\n"
   ]
  },
  {
   "cell_type": "markdown",
   "metadata": {},
   "source": [
    "#### thats a lot faster\n",
    "Now lets find out which artist has the most songs in the dataset   \n",
    "First query... \n",
    "+ Note that artist_id is what we want bc artist_name have duplicates (FEAT. Lil Wayne) \n",
    " "
   ]
  },
  {
   "cell_type": "code",
   "execution_count": null,
   "metadata": {},
   "outputs": [],
   "source": [
    "# what we want to work with is artist ID, not artist names. Some artists\n",
    "# have many names, usually because the song is \"featuring someone else\"\n",
    "conn = sqlite3.connect(os.path.join(msd_subset_addf_path,\n",
    "                                    'subset_track_metadata.db'))\n",
    "q = \"SELECT DISTINCT artist_id FROM songs\"\n",
    "res = conn.execute(q)\n",
    "all_artist_ids = map(lambda x: x[0], res.fetchall())\n",
    "conn.close()\n"
   ]
  },
  {
   "cell_type": "code",
   "execution_count": null,
   "metadata": {},
   "outputs": [],
   "source": [
    "# The Echo Nest artist id look like:\n",
    "for k in range(4):\n",
    "    print all_artist_ids[k]\n"
   ]
  },
  {
   "cell_type": "code",
   "execution_count": null,
   "metadata": {},
   "outputs": [],
   "source": [
    "# let's count the songs from each of these artists.\n",
    "# We will do it first by iterating over the dataset.\n",
    "# we prepare a dictionary to count files\n",
    "files_per_artist = {}\n",
    "for aid in all_artist_ids:\n",
    "    files_per_artist[aid] = 0\n"
   ]
  },
  {
   "cell_type": "code",
   "execution_count": null,
   "metadata": {},
   "outputs": [],
   "source": [
    "# we prepare the function to check artist id in each file\n",
    "def func_to_count_artist_id(filename):\n",
    "    \"\"\"\n",
    "    This function does 3 simple things:\n",
    "    - open the song file\n",
    "    - get artist ID and put it\n",
    "    - close the file\n",
    "    \"\"\"\n",
    "    h5 = GETTERS.open_h5_file_read(filename)\n",
    "    artist_id = GETTERS.get_artist_id(h5)\n",
    "    files_per_artist[artist_id] += 1\n",
    "    h5.close()\n",
    "\n"
   ]
  },
  {
   "cell_type": "code",
   "execution_count": null,
   "metadata": {},
   "outputs": [],
   "source": [
    "# we apply this function to all files\n",
    "apply_to_all_files(msd_subset_data_path,func=func_to_count_artist_id)\n",
    "\n",
    "# the most popular artist (with the most songs) is:\n",
    "most_pop_aid = sorted(files_per_artist,\n",
    "                      key=files_per_artist.__getitem__,\n",
    "                      reverse=True)[0]\n",
    "print most_pop_aid,'has',files_per_artist[most_pop_aid],'songs.'\n",
    "\n"
   ]
  },
  {
   "cell_type": "code",
   "execution_count": null,
   "metadata": {},
   "outputs": [],
   "source": [
    "# of course, it is more fun to have the name(s) of this artist\n",
    "# let's get it using SQLite\n",
    "conn = sqlite3.connect(os.path.join(msd_subset_addf_path,\n",
    "                                    'subset_track_metadata.db'))\n",
    "q = \"SELECT DISTINCT artist_name FROM songs\"\n",
    "q += \" WHERE artist_id='\"+most_pop_aid+\"'\"\n",
    "res = conn.execute(q)\n",
    "pop_artist_names = map(lambda x: x[0], res.fetchall())\n",
    "conn.close()\n",
    "print 'SQL query:',q\n",
    "print 'name(s) of the most popular artist:',pop_artist_names\n",
    "\n"
   ]
  },
  {
   "cell_type": "code",
   "execution_count": null,
   "metadata": {},
   "outputs": [],
   "source": [
    "# let's redo all this work in SQLite in a few seconds\n",
    "t1 = time.time()\n",
    "conn = sqlite3.connect(os.path.join(msd_subset_addf_path,\n",
    "                                    'subset_track_metadata.db'))\n",
    "q = \"SELECT DISTINCT artist_id, artist_name, Count(track_id) FROM songs\"\n",
    "q += \" GROUP BY artist_id\"\n",
    "res = conn.execute(q)\n",
    "pop_artists = res.fetchall()\n",
    "conn.close()\n",
    "t2 = time.time()\n",
    "print 'found most popular artist in',strtimedelta(t1,t2)\n",
    "print sorted(pop_artists,key=lambda x:x[2],reverse=True)[0]"
   ]
  },
  {
   "cell_type": "code",
   "execution_count": null,
   "metadata": {},
   "outputs": [],
   "source": []
  },
  {
   "cell_type": "code",
   "execution_count": null,
   "metadata": {},
   "outputs": [],
   "source": [
    "# let's now get all artist names in a set(). One nice property:\n",
    "# if we enter many times the same artist, only one will be kept.\n",
    "all_hotness = set()\n",
    "\n",
    "# we define the function to apply to all files\n",
    "def func_to_get_artist_name(filename):\n",
    "    \"\"\"\n",
    "    This function does 3 simple things:\n",
    "    - open the song file\n",
    "    - get artist ID and put it\n",
    "    - close the file\n",
    "    \"\"\"\n",
    "    h5 = GETTERS.open_h5_file_read(filename)\n",
    "    artist_name = GETTERS.get_artist_hotttnesss(h5)\n",
    "    all_hotness.add( artist_name )\n",
    "    h5.close()"
   ]
  },
  {
   "cell_type": "code",
   "execution_count": null,
   "metadata": {},
   "outputs": [],
   "source": []
  },
  {
   "cell_type": "code",
   "execution_count": null,
   "metadata": {},
   "outputs": [],
   "source": [
    "import pprint\n",
    "p = pprint.PrettyPrinter(indent=4)\n"
   ]
  },
  {
   "cell_type": "code",
   "execution_count": null,
   "metadata": {},
   "outputs": [],
   "source": [
    "# this is too long, and the work of listing artist names has already\n",
    "# been done. Let's redo the same task using an SQLite database.\n",
    "# We connect to the provided database: track_metadata.db\n",
    "conn = sqlite3.connect(os.path.join(msd_subset_addf_path,\n",
    "                                    'subset_track_metadata.db'))\n",
    "# we build the SQL query\n",
    "q = \"SELECT * FROM songs\"\n",
    "# we query the database\n",
    "t1 = time.time()\n",
    "res = conn.execute(q)\n",
    "all_artist_hot_sqlite = res.fetchall()\n",
    "t2 = time.time()\n",
    "print 'all artist names extracted (SQLite) in:',strtimedelta(t1,t2)\n",
    "# we close the connection to the database\n",
    "conn.close()\n",
    "# let's see some of the content\n",
    "for k in range(1):\n",
    "    pp.pprint(all_artist_hot_sqlite[k])\n",
    "\n"
   ]
  },
  {
   "cell_type": "code",
   "execution_count": null,
   "metadata": {},
   "outputs": [],
   "source": [
    "filter(lambda x: x[:3] == 'get',GETTERS.__dict__.keys())"
   ]
  },
  {
   "cell_type": "code",
   "execution_count": null,
   "metadata": {},
   "outputs": [],
   "source": []
  },
  {
   "cell_type": "code",
   "execution_count": null,
   "metadata": {},
   "outputs": [],
   "source": [
    "# this is too long, and the work of listing artist names has already\n",
    "# been done. Let's redo the same task using an SQLite database.\n",
    "# We connect to the provided database: track_metadata.db\n",
    "conn = sqlite3.connect('../testing01.db')\n",
    "\n",
    "# we build the SQL query\n",
    "q = \"SELECT artist_name, track_7digitalid \\\n",
    "        FROM songs WHERE artist_familiarity=0 LIMIT 100\"\n",
    "# we query the database\n",
    "t1 = time.time()\n",
    "res = conn.execute(q)\n",
    "x = res.fetchall()\n",
    "t2 = time.time()\n",
    "print 'time:',strtimedelta(t1,t2)\n",
    "# we close the connection to the database\n",
    "conn.close()\n",
    "\n",
    "\n",
    "pp.pprint(x)\n"
   ]
  },
  {
   "cell_type": "markdown",
   "metadata": {},
   "source": [
    "## How to connect to the swagmaster metadata db"
   ]
  },
  {
   "cell_type": "code",
   "execution_count": null,
   "metadata": {},
   "outputs": [],
   "source": [
    "conn = sqlite3.connect('../swagmaster.db')\n",
    "\n",
    "# we build the SQL query\n",
    "q = \"SELECT count(*) FROM songs WHERE \\\n",
    "        song_hotttnesss>0 \\\n",
    "        \"\n",
    "# we query the database\n",
    "t1 = time.time()\n",
    "res = conn.execute(q)\n",
    "x = res.fetchall()\n",
    "t2 = time.time()\n",
    "print 'time:',strtimedelta(t1,t2)\n",
    "# we close the connection to the database\n",
    "conn.close()\n",
    "\n",
    "\n",
    "pp.pprint(x)\n"
   ]
  },
  {
   "cell_type": "code",
   "execution_count": null,
   "metadata": {},
   "outputs": [],
   "source": [
    "conn.close()"
   ]
  },
  {
   "cell_type": "code",
   "execution_count": null,
   "metadata": {},
   "outputs": [],
   "source": []
  },
  {
   "cell_type": "code",
   "execution_count": null,
   "metadata": {},
   "outputs": [],
   "source": []
  },
  {
   "cell_type": "code",
   "execution_count": null,
   "metadata": {},
   "outputs": [],
   "source": [
    "conn = sqlite3.connect('../track_metadata.db')\n",
    "\n",
    "# we build the SQL query\n",
    "q = \"SELECT count(*) FROM songs limit 1\"\n",
    "# we query the database\n",
    "t1 = time.time()\n",
    "res = conn.execute(q)\n",
    "x = res.fetchall()\n",
    "t2 = time.time()\n",
    "print 'time:', strtimedelta(t1,t2)\n",
    "# we close the connection to the database\n",
    "conn.close()\n",
    "\n",
    "\n",
    "p.pprint(x)\n"
   ]
  },
  {
   "cell_type": "code",
   "execution_count": null,
   "metadata": {},
   "outputs": [],
   "source": []
  },
  {
   "cell_type": "code",
   "execution_count": null,
   "metadata": {},
   "outputs": [],
   "source": []
  },
  {
   "cell_type": "code",
   "execution_count": null,
   "metadata": {},
   "outputs": [],
   "source": []
  },
  {
   "cell_type": "code",
   "execution_count": null,
   "metadata": {},
   "outputs": [],
   "source": []
  },
  {
   "cell_type": "code",
   "execution_count": null,
   "metadata": {},
   "outputs": [],
   "source": []
  },
  {
   "cell_type": "code",
   "execution_count": null,
   "metadata": {},
   "outputs": [],
   "source": []
  },
  {
   "cell_type": "code",
   "execution_count": null,
   "metadata": {},
   "outputs": [],
   "source": []
  },
  {
   "cell_type": "code",
   "execution_count": null,
   "metadata": {},
   "outputs": [],
   "source": []
  }
 ],
 "metadata": {
  "kernelspec": {
   "display_name": "Python 2",
   "language": "python",
   "name": "python2"
  },
  "language_info": {
   "codemirror_mode": {
    "name": "ipython",
    "version": 2
   },
   "file_extension": ".py",
   "mimetype": "text/x-python",
   "name": "python",
   "nbconvert_exporter": "python",
   "pygments_lexer": "ipython2",
   "version": "2.7.14"
  }
 },
 "nbformat": 4,
 "nbformat_minor": 2
}
